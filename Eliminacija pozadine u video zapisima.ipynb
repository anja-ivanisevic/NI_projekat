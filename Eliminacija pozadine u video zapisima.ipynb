{
 "cells": [
  {
   "cell_type": "code",
   "execution_count": 6,
   "metadata": {},
   "outputs": [],
   "source": [
    "import numpy as np\n",
    "from numpy.linalg import inv\n",
    "import cv2\n",
    "import glob\n",
    "from sklearn.preprocessing import normalize\n",
    "import time, pandas\n",
    "\n",
    "#filenames = glob.glob(\"lose_vreme/*.jpg\")\n",
    "#filenames.sort()\n",
    "#images = [cv2.imread(img) for img in filenames]"
   ]
  },
  {
   "cell_type": "code",
   "execution_count": 7,
   "metadata": {},
   "outputs": [],
   "source": [
    "def writePicture(filename, image, algorithm):\n",
    "    filename = filename.replace(\"input\", \"result/\" + algorithm)\n",
    "    filename = filename.replace(\"in\", \"out\")\n",
    "    cv2.imwrite(filename, image);"
   ]
  },
  {
   "cell_type": "code",
   "execution_count": 8,
   "metadata": {},
   "outputs": [],
   "source": [
    "# Basic Motion Detection\n",
    "\n",
    "def d(frame, bs):\n",
    "    return ((frame[:,:,0] - bs[:,:,0])**2 + (frame[:,:,1] - bs[:,:,1])**2 + (frame[:,:,2] - bs[:,:,2])**2)\n",
    "\n",
    "def basicMotionDetetcion(alfa, t, frame, bs):\n",
    "    b = (1-alfa)*bs + alfa*frame\n",
    "    return b, (d(frame, bs) > t)*1*255\n",
    "\n",
    "def bmd(images, filenames):\n",
    "\n",
    "    alfa = 10**-3\n",
    "    t = 5000\n",
    "    bs = np.uint8(images[0])\n",
    "\n",
    "    for i in range(1,len(images)):\n",
    "        img = images[i]\n",
    "        frame = np.uint8(img)\n",
    "        bs, fgmask = basicMotionDetetcion(alfa, t, frame, bs)\n",
    "        fgmask = np.uint8(fgmask)\n",
    "        cv2.imshow('Basic Motion Detection', fgmask)\n",
    "        writePicture(filenames[i], fgmask, \"bmd\")\n",
    "        k = cv2.waitKey(30) & 0xff\n",
    "        if k == 27:\n",
    "            break\n",
    "\n",
    "    cv2.destroyAllWindows()"
   ]
  },
  {
   "cell_type": "code",
   "execution_count": 9,
   "metadata": {},
   "outputs": [],
   "source": [
    "# MOG2 -> Gaussian Mixture based foreground/background detecton algorithm \n",
    "\n",
    "def mog2(images, filenames):\n",
    "\n",
    "    b0 = images[0]\n",
    "    fgbg = cv2.createBackgroundSubtractorMOG2()\n",
    "\n",
    "    for i in range(1,len(images)):\n",
    "        frame = images[i]\n",
    "        fgmask = fgbg.apply(frame)\n",
    "        cv2.imshow('MOG2',fgmask)\n",
    "        writePicture(filenames[i], fgmask, \"mog2\")\n",
    "        k = cv2.waitKey(30) & 0xff\n",
    "        if k == 27:\n",
    "            break\n",
    "\n",
    "    cv2.destroyAllWindows()"
   ]
  },
  {
   "cell_type": "code",
   "execution_count": 10,
   "metadata": {},
   "outputs": [],
   "source": [
    "# KNN\n",
    "\n",
    "def knn(images, filenames):\n",
    "\n",
    "    b0 = images[0]\n",
    "    fgbg = cv2.createBackgroundSubtractorKNN()\n",
    "\n",
    "    for i in range(1,len(images)):\n",
    "        frame = images[i]\n",
    "        fgmask = fgbg.apply(frame)\n",
    "        cv2.imshow('frame', fgmask)\n",
    "        writePicture(filenames[i], fgmask, \"knn\")\n",
    "        k = cv2.waitKey(30) & 0xff\n",
    "        if k == 27:\n",
    "            break\n",
    "\n",
    "    cv2.destroyAllWindows()"
   ]
  },
  {
   "cell_type": "code",
   "execution_count": 11,
   "metadata": {},
   "outputs": [],
   "source": [
    "testnames = [\"dataset/test1/\", \"dataset/test2/\", \"dataset/test3/\"]\n",
    "\n",
    "for t in range(0, len(testnames)):\n",
    "    # Ucitvanje slika za jedan test primer\n",
    "    filenames = glob.glob(testnames[t] + \"input/*.jpg\")\n",
    "    filenames.sort()\n",
    "    \n",
    "    images = [cv2.imread(img) for img in filenames]\n",
    "\n",
    "    # Pozivanje algoritama za izdvajanje pozadine od pomerajucih objekata\n",
    "    bmd(images, filenames)\n",
    "    mog2(images, filenames)\n",
    "    knn(images, filenames)"
   ]
  },
  {
   "cell_type": "code",
   "execution_count": 30,
   "metadata": {},
   "outputs": [
    {
     "name": "stdout",
     "output_type": "stream",
     "text": [
      "1.0\n",
      "0.2510988886566332\n"
     ]
    }
   ],
   "source": [
    "prec, recall = eval(\"bmd\", filenames)\n",
    "print (prec)\n",
    "print (recall)"
   ]
  },
  {
   "cell_type": "code",
   "execution_count": 32,
   "metadata": {},
   "outputs": [
    {
     "name": "stdout",
     "output_type": "stream",
     "text": [
      "[(0.9798258250155284, 0.0826226677042192), (1.0, 0.005832191409637062), (1.0, 0.2510988886566332)]\n",
      "[(0.9821941380907457, 0.17613240499529476), (1.0, 0.03376859980800198), (1.0, 0.3053803863960114)]\n",
      "[(0.9764321979664232, 0.15002478910899175), (1.0, 0.028330188204508857), (1.0, 0.3578058807134894)]\n"
     ]
    }
   ],
   "source": [
    "testnames = [\"dataset/test1/\", \"dataset/test2/\", \"dataset/test3/\"]\n",
    "\n",
    "bmdScore = []\n",
    "mog2Score = []\n",
    "knnScore = []\n",
    "\n",
    "for t in range(0, len(testnames)):\n",
    "    # Ucitvanje slika za jedan test primer\n",
    "    filenames = glob.glob(testnames[t] + \"input/*.jpg\")\n",
    "    filenames.sort()\n",
    "    \n",
    "\n",
    "    # Pozivanje algoritama za izdvajanje pozadine od pomerajucih objekata\n",
    "    prec, recall = eval(\"bmd\", filenames)\n",
    "    bmdScore.append((prec, recall))\n",
    "    \n",
    "    prec, recall = eval(\"mog2\", filenames)\n",
    "    mog2Score.append((prec, recall))\n",
    "    \n",
    "    prec, recall = eval(\"knn\", filenames)\n",
    "    knnScore.append((prec, recall))\n",
    "\n",
    "print(bmdScore)\n",
    "print(mog2Score)\n",
    "print(knnScore)"
   ]
  },
  {
   "cell_type": "code",
   "execution_count": 3,
   "metadata": {},
   "outputs": [],
   "source": [
    "# GMG\n",
    "\n",
    "filenames = glob.glob(\"lose_vreme/*.jpg\")\n",
    "filenames.sort()\n",
    "images = [cv2.imread(img) for img in filenames]\n",
    "\n",
    "b0 = images[0]\n",
    "\n",
    "kernel = cv2.getStructuringElement(cv2.MORPH_ELLIPSE,(3,3))\n",
    "fgbg = cv2.bgsegm.createBackgroundSubtractorGMG()\n",
    "\n",
    "\n",
    "for i in range(1,len(images)):\n",
    "    frame = images[i]\n",
    "    fgmask = fgbg.apply(frame)\n",
    "    fgmask = cv2.morphologyEx(fgmask, cv2.MORPH_OPEN, kernel)\n",
    "    cv2.imshow('frame',fgmask)\n",
    "    k = cv2.waitKey(30) & 0xff\n",
    "    if k == 27:\n",
    "        break\n",
    "\n",
    "cv2.destroyAllWindows()"
   ]
  },
  {
   "cell_type": "code",
   "execution_count": 2,
   "metadata": {},
   "outputs": [],
   "source": []
  },
  {
   "cell_type": "code",
   "execution_count": 29,
   "metadata": {},
   "outputs": [],
   "source": [
    "\n",
    "def eval(algoritam, filenames):\n",
    "    tp = 0\n",
    "    tn = 0\n",
    "    fp = 0\n",
    "    fn = 0\n",
    "    \n",
    "    for i in range(1, len(filenames)):\n",
    "        resFilename = filenames[i].replace(\"input\", \"result/\" + algoritam)\n",
    "        resFilename = resFilename.replace(\"in\", \"out\")\n",
    "        gtFilename = filenames[i].replace(\"input\", \"ground_truth\")\n",
    "        gtFilename = gtFilename.replace(\"in\", \"gt\")\n",
    "        gtFilename = gtFilename.replace(\"jpg\", \"png\")\n",
    "\n",
    "        \n",
    "       \n",
    "        resImage = cv2.imread(resFilename)\n",
    "        resImage = cv2.cvtColor(resImage,cv2.COLOR_BGR2GRAY)  \n",
    "\n",
    "#         print(gtFilename)\n",
    "        gtImage = cv2.imread(gtFilename)\n",
    "#         print (gtImage)\n",
    "        gtImage = cv2.cvtColor(gtImage,cv2.COLOR_BGR2GRAY)  \n",
    "        \n",
    "        for j in range(0, resImage.shape[0]):\n",
    "            for k in range(0, resImage.shape[1]):\n",
    "                if resImage[j][k] != 0 and gtImage[j][k] != 0:\n",
    "                    tp = tp + 1\n",
    "                elif resImage[j][k] == 0 and gtImage[j][k] == 0:\n",
    "                    tn = tn + 1\n",
    "                elif resImage[j][k] != 0:\n",
    "                    fp = fp + 1\n",
    "                else:\n",
    "                    fn = fn + 1\n",
    "          \n",
    "    prec = tp / (tp + fp)       \n",
    "    recall = tp / (tp + fn)\n",
    "    return prec, recall"
   ]
  },
  {
   "cell_type": "code",
   "execution_count": null,
   "metadata": {},
   "outputs": [],
   "source": []
  },
  {
   "cell_type": "code",
   "execution_count": null,
   "metadata": {},
   "outputs": [],
   "source": [
    "# 1-G\n",
    "\n",
    "def update_function(frame, mean, variance, d, r):\n",
    "    new_mean = r*frame + (1 - r)*mean\n",
    "    new_variance = d*d*r + (1 - r)*variance\n",
    "    new_d = abs(frame - mean)\n",
    "    return new_mean, new_variance, new_d\n",
    "\n",
    "def update_frame(frame, mean, variance, k):\n",
    "    for i in range(0, frame.shape[0]):\n",
    "        for j in range(0, frame.shape[1]):\n",
    "            if frame[i][j] != None and mean[i][j] != None and np.all(abs(frame[i][j] - mean[i][j])/variance > k):\n",
    "                frame[i][j] = 0\n",
    "            else:\n",
    "                frame[i][j] = 255\n",
    "    return frame\n",
    "\n",
    "\n",
    "filenames = glob.glob(\"lose_vreme/*.jpg\")\n",
    "filenames.sort()\n",
    "images = [cv2.imread(img) for img in filenames]\n",
    "\n",
    "mean = cv2.cvtColor(images[0],cv2.COLOR_BGR2GRAY)  \n",
    "variance = 1\n",
    "r = 0.01\n",
    "d = 2\n",
    "k = 2.5\n",
    "\n",
    "for i in range(1, len(images)):\n",
    "    frame = cv2.cvtColor(images[i],cv2.COLOR_BGR2GRAY)  \n",
    "    mean, variance, r = update_function(frame, mean, variance, d, r)\n",
    " \n",
    "    frame = update_frame(frame, mean, variance, k)\n",
    "    cv2.imshow(\"Colour Frame\", frame)\n",
    "    \n",
    "    key=cv2.waitKey(1)\n",
    "    if key==ord('q'):\n",
    "        break\n",
    "        \n",
    "cv2.destroyAllWindows()"
   ]
  },
  {
   "cell_type": "code",
   "execution_count": null,
   "metadata": {},
   "outputs": [],
   "source": []
  }
 ],
 "metadata": {
  "kernelspec": {
   "display_name": "Python 3",
   "language": "python",
   "name": "python3"
  },
  "language_info": {
   "codemirror_mode": {
    "name": "ipython",
    "version": 3
   },
   "file_extension": ".py",
   "mimetype": "text/x-python",
   "name": "python",
   "nbconvert_exporter": "python",
   "pygments_lexer": "ipython3",
   "version": "3.7.0"
  }
 },
 "nbformat": 4,
 "nbformat_minor": 2
}
