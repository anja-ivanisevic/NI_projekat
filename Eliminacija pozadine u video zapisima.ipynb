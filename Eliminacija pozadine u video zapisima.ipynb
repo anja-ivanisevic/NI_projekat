{
 "cells": [
  {
   "cell_type": "code",
   "execution_count": 22,
   "metadata": {},
   "outputs": [],
   "source": [
    "import numpy as np\n",
    "from numpy.linalg import inv\n",
    "import cv2\n",
    "import glob\n",
    "from sklearn.preprocessing import normalize\n",
    "import time, pandas"
   ]
  },
  {
   "cell_type": "code",
   "execution_count": 23,
   "metadata": {},
   "outputs": [],
   "source": [
    "def writePicture(filename, image, algorithm):\n",
    "    filename = filename.replace(\"input\", \"result/\" + algorithm)\n",
    "    filename = filename.replace(\"in\", \"out\")\n",
    "    cv2.imwrite(filename, image);"
   ]
  },
  {
   "cell_type": "code",
   "execution_count": 24,
   "metadata": {},
   "outputs": [],
   "source": [
    "# Basic Motion Detection\n",
    "\n",
    "def d(frame, bs):\n",
    "    return ((frame[:,:,0] - bs[:,:,0])**2 + (frame[:,:,1] - bs[:,:,1])**2 + (frame[:,:,2] - bs[:,:,2])**2)\n",
    "\n",
    "def basicMotionDetetcion(alfa, t, frame, bs):\n",
    "    b = (1-alfa)*bs + alfa*frame\n",
    "    return b, (d(frame, bs) > t)*1*255\n",
    "\n",
    "def bmd(images, filenames):\n",
    "\n",
    "    alfa = 10**-3\n",
    "    t = 5000\n",
    "    bs = np.uint8(images[0])\n",
    "\n",
    "    for i in range(1,len(images)):\n",
    "        img = images[i]\n",
    "        frame = np.uint8(img)\n",
    "        bs, fgmask = basicMotionDetetcion(alfa, t, frame, bs)\n",
    "        fgmask = np.uint8(fgmask)\n",
    "        cv2.imshow('Basic Motion Detection', fgmask)\n",
    "        writePicture(filenames[i], fgmask, \"bmd\")\n",
    "        k = cv2.waitKey(30) & 0xff\n",
    "        if k == 27:\n",
    "            break\n",
    "\n",
    "    cv2.destroyAllWindows()"
   ]
  },
  {
   "cell_type": "code",
   "execution_count": 25,
   "metadata": {},
   "outputs": [],
   "source": [
    "# MOG2 -> Gaussian Mixture based foreground/background detecton algorithm \n",
    "\n",
    "def mog2(images, filenames):\n",
    "\n",
    "    b0 = images[0]\n",
    "    fgbg = cv2.createBackgroundSubtractorMOG2()\n",
    "\n",
    "    for i in range(1,len(images)):\n",
    "        frame = images[i]\n",
    "        fgmask = fgbg.apply(frame)\n",
    "        cv2.imshow('MOG2',fgmask)\n",
    "        writePicture(filenames[i], fgmask, \"mog2\")\n",
    "        k = cv2.waitKey(30) & 0xff\n",
    "        if k == 27:\n",
    "            break\n",
    "\n",
    "    cv2.destroyAllWindows()"
   ]
  },
  {
   "cell_type": "code",
   "execution_count": 26,
   "metadata": {},
   "outputs": [],
   "source": [
    "# KNN -> K Nearest Neighbours\n",
    "\n",
    "def knn(images, filenames):\n",
    "\n",
    "    b0 = images[0]\n",
    "    fgbg = cv2.createBackgroundSubtractorKNN()\n",
    "\n",
    "    for i in range(1,len(images)):\n",
    "        frame = images[i]\n",
    "        fgmask = fgbg.apply(frame)\n",
    "        cv2.imshow('frame', fgmask)\n",
    "        writePicture(filenames[i], fgmask, \"knn\")\n",
    "        k = cv2.waitKey(30) & 0xff\n",
    "        if k == 27:\n",
    "            break\n",
    "\n",
    "    cv2.destroyAllWindows()"
   ]
  },
  {
   "cell_type": "code",
   "execution_count": 27,
   "metadata": {},
   "outputs": [],
   "source": [
    "testnames = [\"dataset/test1/\", \"dataset/test2/\", \"dataset/test3/\"]\n",
    "\n",
    "for t in range(0, len(testnames)):\n",
    "    # Ucitvanje slika za jedan test primer\n",
    "    filenames = glob.glob(testnames[t] + \"input/*.jpg\")\n",
    "    filenames.sort()\n",
    "    \n",
    "    images = [cv2.imread(img) for img in filenames]\n",
    "\n",
    "    # Pozivanje algoritama za izdvajanje pozadine od pomerajucih objekata\n",
    "    bmd(images, filenames)\n",
    "    mog2(images, filenames)\n",
    "    knn(images, filenames)"
   ]
  },
  {
   "cell_type": "code",
   "execution_count": 29,
   "metadata": {},
   "outputs": [],
   "source": [
    "def eval(algoritam, filenames):\n",
    "    tp = 0\n",
    "    tn = 0\n",
    "    fp = 0\n",
    "    fn = 0\n",
    "    \n",
    "    for i in range(1, len(filenames)):\n",
    "        resFilename = filenames[i].replace(\"input\", \"result/\" + algoritam)\n",
    "        resFilename = resFilename.replace(\"in\", \"out\")\n",
    "        gtFilename = filenames[i].replace(\"input\", \"ground_truth\")\n",
    "        gtFilename = gtFilename.replace(\"in\", \"gt\")\n",
    "        gtFilename = gtFilename.replace(\"jpg\", \"png\")\n",
    "       \n",
    "        resImage = cv2.imread(resFilename)\n",
    "        resImage = cv2.cvtColor(resImage,cv2.COLOR_BGR2GRAY)  \n",
    "\n",
    "        gtImage = cv2.imread(gtFilename)\n",
    "        gtImage = cv2.cvtColor(gtImage,cv2.COLOR_BGR2GRAY)  \n",
    "        \n",
    "        for j in range(0, resImage.shape[0]):\n",
    "            for k in range(0, resImage.shape[1]):\n",
    "                if resImage[j][k] != 0 and gtImage[j][k] != 0:\n",
    "                    tp = tp + 1\n",
    "                elif resImage[j][k] == 0 and gtImage[j][k] == 0:\n",
    "                    tn = tn + 1\n",
    "                elif resImage[j][k] != 0:\n",
    "                    fp = fp + 1\n",
    "                else:\n",
    "                    fn = fn + 1\n",
    "          \n",
    "    prec = tp / (tp + fp)       \n",
    "    recall = tp / (tp + fn)\n",
    "    return prec, recall"
   ]
  },
  {
   "cell_type": "code",
   "execution_count": 30,
   "metadata": {},
   "outputs": [
    {
     "name": "stdout",
     "output_type": "stream",
     "text": [
      "[(0.9408605330803484, 0.4527993409838972), (0.47571929507812877, 0.7833279913785495), (0.9822120712674162, 0.9435565641183505)]\n",
      "[(0.4236645083946855, 0.9413660169957543), (0.18202847590309232, 0.8926220636668106), (0.897246847987152, 0.7183750636783908)]\n",
      "[(0.5218184050914061, 0.9156954515348574), (0.2739729504486401, 0.9024930670717262), (0.887228556007916, 0.906838854851408)]\n"
     ]
    }
   ],
   "source": [
    "testnames = [\"dataset/test1/\", \"dataset/test2/\", \"dataset/test3/\"]\n",
    "\n",
    "bmdScore = []\n",
    "mog2Score = []\n",
    "knnScore = []\n",
    "\n",
    "for t in range(0, len(testnames)):\n",
    "    # Ucitvanje imena slika\n",
    "    filenames = glob.glob(testnames[t] + \"input/*.jpg\")\n",
    "    filenames.sort()\n",
    "    \n",
    "\n",
    "    # Evaluacija algoritama za izdvajanje pozadine od pomerajucih objekata\n",
    "    prec, recall = eval(\"bmd\", filenames)\n",
    "    bmdScore.append((prec, recall))\n",
    "    \n",
    "    prec, recall = eval(\"mog2\", filenames)\n",
    "    mog2Score.append((prec, recall))\n",
    "    \n",
    "    prec, recall = eval(\"knn\", filenames)\n",
    "    knnScore.append((prec, recall))\n",
    "\n",
    "print(bmdScore)\n",
    "print(mog2Score)\n",
    "print(knnScore)"
   ]
  },
  {
   "cell_type": "code",
   "execution_count": 3,
   "metadata": {},
   "outputs": [],
   "source": []
  },
  {
   "cell_type": "code",
   "execution_count": 2,
   "metadata": {},
   "outputs": [],
   "source": []
  },
  {
   "cell_type": "code",
   "execution_count": 19,
   "metadata": {},
   "outputs": [],
   "source": []
  },
  {
   "cell_type": "code",
   "execution_count": null,
   "metadata": {},
   "outputs": [],
   "source": []
  },
  {
   "cell_type": "code",
   "execution_count": null,
   "metadata": {},
   "outputs": [],
   "source": []
  },
  {
   "cell_type": "code",
   "execution_count": null,
   "metadata": {},
   "outputs": [],
   "source": []
  }
 ],
 "metadata": {
  "kernelspec": {
   "display_name": "Python 3",
   "language": "python",
   "name": "python3"
  },
  "language_info": {
   "codemirror_mode": {
    "name": "ipython",
    "version": 3
   },
   "file_extension": ".py",
   "mimetype": "text/x-python",
   "name": "python",
   "nbconvert_exporter": "python",
   "pygments_lexer": "ipython3",
   "version": "3.7.3"
  }
 },
 "nbformat": 4,
 "nbformat_minor": 2
}
